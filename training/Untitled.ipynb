{
 "cells": [
  {
   "cell_type": "code",
   "execution_count": 1,
   "id": "47bddcfe",
   "metadata": {},
   "outputs": [],
   "source": [
    "import tensorflow as tf\n",
    "from tensorflow.keras import models, layers\n",
    "import matplotlib.pyplot as plt\n",
    "from IPython.display import HTML\n",
    "from tensorflow.keras.preprocessing.image import ImageDataGenerator"
   ]
  },
  {
   "cell_type": "code",
   "execution_count": 2,
   "id": "890574b9",
   "metadata": {},
   "outputs": [],
   "source": [
    "IMAGE_SIZE = 256\n",
    "CHANNELS = 3"
   ]
  },
  {
   "cell_type": "code",
   "execution_count": 3,
   "id": "13fca25d",
   "metadata": {},
   "outputs": [
    {
     "name": "stdout",
     "output_type": "stream",
     "text": [
      "Found 1506 images belonging to 3 classes.\n"
     ]
    }
   ],
   "source": [
    "train_datagen = ImageDataGenerator(\n",
    "        rescale=1./255,\n",
    "        rotation_range=10,\n",
    "        horizontal_flip=True\n",
    ")\n",
    "train_generator = train_datagen.flow_from_directory(\n",
    "        'dataset/train',\n",
    "        target_size=(IMAGE_SIZE,IMAGE_SIZE),\n",
    "        batch_size=32,\n",
    "        class_mode=\"sparse\",\n",
    "#         save_to_dir=\"C:\\\\Code\\\\potato-disease-classification\\\\training\\\\AugmentedImages\"\n",
    ")"
   ]
  },
  {
   "cell_type": "code",
   "execution_count": 4,
   "id": "c8644c83",
   "metadata": {},
   "outputs": [
    {
     "data": {
      "text/plain": [
       "{'Potato___Early_blight': 0, 'Potato___Late_blight': 1, 'Potato___healthy': 2}"
      ]
     },
     "execution_count": 4,
     "metadata": {},
     "output_type": "execute_result"
    }
   ],
   "source": [
    "train_generator.class_indices"
   ]
  },
  {
   "cell_type": "code",
   "execution_count": 5,
   "id": "031bdf44",
   "metadata": {},
   "outputs": [
    {
     "data": {
      "text/plain": [
       "['Potato___Early_blight', 'Potato___Late_blight', 'Potato___healthy']"
      ]
     },
     "execution_count": 5,
     "metadata": {},
     "output_type": "execute_result"
    }
   ],
   "source": [
    "class_names = list(train_generator.class_indices.keys())\n",
    "class_names"
   ]
  },
  {
   "cell_type": "code",
   "execution_count": 6,
   "id": "e4f365cf",
   "metadata": {},
   "outputs": [
    {
     "name": "stdout",
     "output_type": "stream",
     "text": [
      "[[[0.5786883  0.55123734 0.5786883 ]\n",
      "  [0.57985765 0.55240667 0.57985765]\n",
      "  [0.5810269  0.55357593 0.5810269 ]\n",
      "  ...\n",
      "  [0.5349499  0.5074989  0.53887147]\n",
      "  [0.522134   0.49468303 0.5260556 ]\n",
      "  [0.52604467 0.4985937  0.52996624]]\n",
      "\n",
      " [[0.56304574 0.53559476 0.56304574]\n",
      "  [0.564215   0.536764   0.564215  ]\n",
      "  [0.56538427 0.5379333  0.56538427]\n",
      "  ...\n",
      "  [0.53378063 0.50632966 0.5377022 ]\n",
      "  [0.5224263  0.49497533 0.5263479 ]\n",
      "  [0.526337   0.498886   0.5302586 ]]\n",
      "\n",
      " [[0.5741656  0.5467146  0.5741656 ]\n",
      "  [0.5729963  0.54554534 0.5729963 ]\n",
      "  [0.57182705 0.5443761  0.57182705]\n",
      "  ...\n",
      "  [0.53261137 0.5051604  0.53653294]\n",
      "  [0.5227186  0.49526766 0.5266402 ]\n",
      "  [0.5266293  0.4991783  0.5305509 ]]\n",
      "\n",
      " ...\n",
      "\n",
      " [[0.47742268 0.4499717  0.48134425]\n",
      "  [0.47058827 0.4431373  0.47450984]\n",
      "  [0.4788703  0.45141932 0.48279187]\n",
      "  ...\n",
      "  [0.4168472  0.3933178  0.44821975]\n",
      "  [0.4165549  0.39302546 0.44792745]\n",
      "  [0.41626254 0.39273313 0.44763508]]\n",
      "\n",
      " [[0.4756688  0.4482178  0.47959036]\n",
      "  [0.47058827 0.4431373  0.47450984]\n",
      "  [0.47974724 0.45229626 0.4836688 ]\n",
      "  ...\n",
      "  [0.41960788 0.39607847 0.45098042]\n",
      "  [0.41960788 0.39607847 0.45098042]\n",
      "  [0.41960788 0.39607847 0.45098042]]\n",
      "\n",
      " [[0.4739149  0.4464639  0.47783646]\n",
      "  [0.47058827 0.4431373  0.47450984]\n",
      "  [0.4806242  0.45317322 0.48454577]\n",
      "  ...\n",
      "  [0.4184688  0.3949394  0.44984135]\n",
      "  [0.41876113 0.39523172 0.45013368]\n",
      "  [0.41905344 0.39552402 0.45042598]]]\n"
     ]
    }
   ],
   "source": [
    "count=0\n",
    "for image_batch, label_batch in train_generator:\n",
    "#     print(label_batch)\n",
    "    print(image_batch[0])\n",
    "    break\n",
    "#     count+=1\n",
    "#     if count>2:\n",
    "# "
   ]
  },
  {
   "cell_type": "code",
   "execution_count": 7,
   "id": "2ea0c1af",
   "metadata": {},
   "outputs": [
    {
     "name": "stdout",
     "output_type": "stream",
     "text": [
      "Found 215 images belonging to 3 classes.\n"
     ]
    }
   ],
   "source": [
    "validation_datagen = ImageDataGenerator(\n",
    "        rescale=1./255,\n",
    "        rotation_range=10,\n",
    "        horizontal_flip=True)\n",
    "validation_generator = validation_datagen.flow_from_directory(\n",
    "        'dataset/val',\n",
    "        target_size=(IMAGE_SIZE,IMAGE_SIZE),\n",
    "        batch_size=32,\n",
    "        class_mode=\"sparse\"\n",
    ")"
   ]
  },
  {
   "cell_type": "code",
   "execution_count": 8,
   "id": "f7663beb",
   "metadata": {},
   "outputs": [
    {
     "name": "stdout",
     "output_type": "stream",
     "text": [
      "Found 431 images belonging to 3 classes.\n"
     ]
    }
   ],
   "source": [
    "test_datagen = ImageDataGenerator(\n",
    "        rescale=1./255,\n",
    "        rotation_range=10,\n",
    "        horizontal_flip=True)\n",
    "\n",
    "test_generator = test_datagen.flow_from_directory(\n",
    "        'dataset/test',\n",
    "        target_size=(IMAGE_SIZE,IMAGE_SIZE),\n",
    "        batch_size=32,\n",
    "        class_mode=\"sparse\"\n",
    ")"
   ]
  },
  {
   "cell_type": "code",
   "execution_count": 9,
   "id": "0fadd848",
   "metadata": {},
   "outputs": [
    {
     "name": "stdout",
     "output_type": "stream",
     "text": [
      "[[[0.78168494 0.7620771  0.7856065 ]\n",
      "  [0.76988024 0.7502724  0.7738018 ]\n",
      "  [0.7594516  0.7398438  0.7633732 ]\n",
      "  ...\n",
      "  [0.56882733 0.54137635 0.56882733]\n",
      "  [0.5672828  0.5398318  0.5672828 ]\n",
      "  [0.5657383  0.53828734 0.5657383 ]]\n",
      "\n",
      " [[0.78176624 0.7621584  0.7856878 ]\n",
      "  [0.7702054  0.75059754 0.77412695]\n",
      "  [0.7596142  0.7400064  0.7635358 ]\n",
      "  ...\n",
      "  [0.6545858  0.6271348  0.6545858 ]\n",
      "  [0.65832514 0.63087416 0.65832514]\n",
      "  [0.66206455 0.6346136  0.66206455]]\n",
      "\n",
      " [[0.78184754 0.7622397  0.7857691 ]\n",
      "  [0.7705305  0.7509227  0.7744521 ]\n",
      "  [0.7597768  0.7401689  0.76369834]\n",
      "  ...\n",
      "  [0.65502506 0.6275741  0.65502506]\n",
      "  [0.6528303  0.62537926 0.6528303 ]\n",
      "  [0.6506354  0.62318444 0.6506354 ]]\n",
      "\n",
      " ...\n",
      "\n",
      " [[0.6759193  0.6641546  0.70729184]\n",
      "  [0.67526895 0.66350424 0.7066415 ]\n",
      "  [0.6746186  0.6628539  0.7059912 ]\n",
      "  ...\n",
      "  [0.58677834 0.56324893 0.6024646 ]\n",
      "  [0.5755769  0.5520475  0.5941754 ]\n",
      "  [0.5491419  0.5256125  0.5726713 ]]\n",
      "\n",
      " [[0.65360844 0.64184374 0.684981  ]\n",
      "  [0.65352714 0.64176244 0.6848997 ]\n",
      "  [0.65344584 0.64168113 0.6848184 ]\n",
      "  ...\n",
      "  [0.58685964 0.56333023 0.6025459 ]\n",
      "  [0.57606465 0.5525352  0.5945006 ]\n",
      "  [0.54979223 0.5262628  0.57332164]]\n",
      "\n",
      " [[0.6664931  0.6547284  0.69786566]\n",
      "  [0.66746867 0.65570396 0.6988412 ]\n",
      "  [0.66844416 0.65667945 0.6998167 ]\n",
      "  ...\n",
      "  [0.5869409  0.5634115  0.60262716]\n",
      "  [0.5765524  0.5530229  0.59482574]\n",
      "  [0.5504425  0.5269131  0.5739719 ]]]\n"
     ]
    }
   ],
   "source": [
    "for image_batch, label_batch in test_generator:\n",
    "    print(image_batch[0])\n",
    "    break"
   ]
  },
  {
   "cell_type": "code",
   "execution_count": 10,
   "id": "747cfa86",
   "metadata": {},
   "outputs": [],
   "source": [
    "input_shape = (IMAGE_SIZE, IMAGE_SIZE, CHANNELS)\n",
    "n_classes = 3\n",
    "\n",
    "model = models.Sequential([\n",
    "    layers.InputLayer(input_shape=input_shape),\n",
    "    layers.Conv2D(32, kernel_size = (3,3), activation='relu'),\n",
    "    layers.MaxPooling2D((2, 2)),\n",
    "    layers.Conv2D(64,  kernel_size = (3,3), activation='relu'),\n",
    "    layers.MaxPooling2D((2, 2)),\n",
    "    layers.Conv2D(64,  kernel_size = (3,3), activation='relu'),\n",
    "    layers.MaxPooling2D((2, 2)),\n",
    "    layers.Conv2D(64, (3, 3), activation='relu'),\n",
    "    layers.MaxPooling2D((2, 2)),\n",
    "    layers.Conv2D(64, (3, 3), activation='relu'),\n",
    "    layers.MaxPooling2D((2, 2)),\n",
    "    layers.Conv2D(64, (3, 3), activation='relu'),\n",
    "    layers.MaxPooling2D((2, 2)),\n",
    "    layers.Flatten(),\n",
    "    layers.Dense(64, activation='relu'),\n",
    "    layers.Dense(n_classes, activation='softmax'),\n",
    "])"
   ]
  },
  {
   "cell_type": "code",
   "execution_count": 11,
   "id": "acee448a",
   "metadata": {},
   "outputs": [
    {
     "name": "stdout",
     "output_type": "stream",
     "text": [
      "Model: \"sequential\"\n",
      "_________________________________________________________________\n",
      " Layer (type)                Output Shape              Param #   \n",
      "=================================================================\n",
      " conv2d (Conv2D)             (None, 254, 254, 32)      896       \n",
      "                                                                 \n",
      " max_pooling2d (MaxPooling2D  (None, 127, 127, 32)     0         \n",
      " )                                                               \n",
      "                                                                 \n",
      " conv2d_1 (Conv2D)           (None, 125, 125, 64)      18496     \n",
      "                                                                 \n",
      " max_pooling2d_1 (MaxPooling  (None, 62, 62, 64)       0         \n",
      " 2D)                                                             \n",
      "                                                                 \n",
      " conv2d_2 (Conv2D)           (None, 60, 60, 64)        36928     \n",
      "                                                                 \n",
      " max_pooling2d_2 (MaxPooling  (None, 30, 30, 64)       0         \n",
      " 2D)                                                             \n",
      "                                                                 \n",
      " conv2d_3 (Conv2D)           (None, 28, 28, 64)        36928     \n",
      "                                                                 \n",
      " max_pooling2d_3 (MaxPooling  (None, 14, 14, 64)       0         \n",
      " 2D)                                                             \n",
      "                                                                 \n",
      " conv2d_4 (Conv2D)           (None, 12, 12, 64)        36928     \n",
      "                                                                 \n",
      " max_pooling2d_4 (MaxPooling  (None, 6, 6, 64)         0         \n",
      " 2D)                                                             \n",
      "                                                                 \n",
      " conv2d_5 (Conv2D)           (None, 4, 4, 64)          36928     \n",
      "                                                                 \n",
      " max_pooling2d_5 (MaxPooling  (None, 2, 2, 64)         0         \n",
      " 2D)                                                             \n",
      "                                                                 \n",
      " flatten (Flatten)           (None, 256)               0         \n",
      "                                                                 \n",
      " dense (Dense)               (None, 64)                16448     \n",
      "                                                                 \n",
      " dense_1 (Dense)             (None, 3)                 195       \n",
      "                                                                 \n",
      "=================================================================\n",
      "Total params: 183,747\n",
      "Trainable params: 183,747\n",
      "Non-trainable params: 0\n",
      "_________________________________________________________________\n"
     ]
    }
   ],
   "source": [
    "model.summary()"
   ]
  },
  {
   "cell_type": "code",
   "execution_count": 12,
   "id": "aa2949eb",
   "metadata": {},
   "outputs": [],
   "source": [
    "model.compile(\n",
    "    optimizer='adam',\n",
    "    loss=tf.keras.losses.SparseCategoricalCrossentropy(from_logits=False),\n",
    "    metrics=['accuracy']\n",
    ")"
   ]
  },
  {
   "cell_type": "code",
   "execution_count": 13,
   "id": "ac111c2f",
   "metadata": {},
   "outputs": [
    {
     "data": {
      "text/plain": [
       "47.0625"
      ]
     },
     "execution_count": 13,
     "metadata": {},
     "output_type": "execute_result"
    }
   ],
   "source": [
    "1506/32"
   ]
  },
  {
   "cell_type": "code",
   "execution_count": 14,
   "id": "b5444e63",
   "metadata": {},
   "outputs": [
    {
     "data": {
      "text/plain": [
       "6.71875"
      ]
     },
     "execution_count": 14,
     "metadata": {},
     "output_type": "execute_result"
    }
   ],
   "source": [
    "215/32"
   ]
  },
  {
   "cell_type": "code",
   "execution_count": 15,
   "id": "488f5613",
   "metadata": {},
   "outputs": [
    {
     "name": "stdout",
     "output_type": "stream",
     "text": [
      "Epoch 1/20\n",
      "47/47 [==============================] - 884s 19s/step - loss: 0.9049 - accuracy: 0.4769 - val_loss: 0.8772 - val_accuracy: 0.6510\n",
      "Epoch 2/20\n",
      "47/47 [==============================] - 789s 17s/step - loss: 0.7341 - accuracy: 0.7076 - val_loss: 0.7398 - val_accuracy: 0.6250\n",
      "Epoch 3/20\n",
      "47/47 [==============================] - 1077s 23s/step - loss: 0.4942 - accuracy: 0.7931 - val_loss: 0.3258 - val_accuracy: 0.8333\n",
      "Epoch 4/20\n",
      "47/47 [==============================] - 865s 18s/step - loss: 0.3309 - accuracy: 0.8752 - val_loss: 0.3422 - val_accuracy: 0.8542\n",
      "Epoch 5/20\n",
      "47/47 [==============================] - 977s 21s/step - loss: 0.2947 - accuracy: 0.8792 - val_loss: 0.3199 - val_accuracy: 0.8698\n",
      "Epoch 6/20\n",
      "47/47 [==============================] - 1037s 22s/step - loss: 0.2295 - accuracy: 0.9118 - val_loss: 0.2785 - val_accuracy: 0.8958\n",
      "Epoch 7/20\n",
      "47/47 [==============================] - 968s 21s/step - loss: 0.2038 - accuracy: 0.9172 - val_loss: 0.2929 - val_accuracy: 0.8802\n",
      "Epoch 8/20\n",
      "47/47 [==============================] - 910s 19s/step - loss: 0.2186 - accuracy: 0.9172 - val_loss: 0.3378 - val_accuracy: 0.8802\n",
      "Epoch 9/20\n",
      "47/47 [==============================] - 1007s 21s/step - loss: 0.2071 - accuracy: 0.9233 - val_loss: 0.1474 - val_accuracy: 0.9583\n",
      "Epoch 10/20\n",
      "47/47 [==============================] - 1240s 27s/step - loss: 0.1592 - accuracy: 0.9369 - val_loss: 0.1880 - val_accuracy: 0.9323\n",
      "Epoch 11/20\n",
      "47/47 [==============================] - 945s 20s/step - loss: 0.2004 - accuracy: 0.9227 - val_loss: 0.3053 - val_accuracy: 0.8594\n",
      "Epoch 12/20\n",
      "47/47 [==============================] - 639s 13s/step - loss: 0.1619 - accuracy: 0.9396 - val_loss: 0.2762 - val_accuracy: 0.8854\n",
      "Epoch 13/20\n",
      "47/47 [==============================] - 1091s 23s/step - loss: 0.2278 - accuracy: 0.9118 - val_loss: 0.2917 - val_accuracy: 0.8698\n",
      "Epoch 14/20\n",
      "47/47 [==============================] - 654s 14s/step - loss: 0.1431 - accuracy: 0.9410 - val_loss: 0.1794 - val_accuracy: 0.9271\n",
      "Epoch 15/20\n",
      "47/47 [==============================] - 343s 7s/step - loss: 0.1153 - accuracy: 0.9559 - val_loss: 0.1643 - val_accuracy: 0.9375\n",
      "Epoch 16/20\n",
      "47/47 [==============================] - 315s 7s/step - loss: 0.1306 - accuracy: 0.9491 - val_loss: 0.1382 - val_accuracy: 0.9479\n",
      "Epoch 17/20\n",
      "47/47 [==============================] - 304s 6s/step - loss: 0.0953 - accuracy: 0.9607 - val_loss: 0.1719 - val_accuracy: 0.9323\n",
      "Epoch 18/20\n",
      "47/47 [==============================] - 290s 6s/step - loss: 0.1012 - accuracy: 0.9566 - val_loss: 0.1803 - val_accuracy: 0.9323\n",
      "Epoch 19/20\n",
      "47/47 [==============================] - 292s 6s/step - loss: 0.1078 - accuracy: 0.9525 - val_loss: 0.1587 - val_accuracy: 0.9375\n",
      "Epoch 20/20\n",
      "47/47 [==============================] - 288s 6s/step - loss: 0.0883 - accuracy: 0.9640 - val_loss: 0.1377 - val_accuracy: 0.9427\n"
     ]
    }
   ],
   "source": [
    "history = model.fit(\n",
    "    train_generator,\n",
    "    steps_per_epoch=47,\n",
    "    batch_size=32,\n",
    "    validation_data=validation_generator,\n",
    "    validation_steps=6,\n",
    "    verbose=1,\n",
    "    epochs=20,\n",
    ")"
   ]
  },
  {
   "cell_type": "code",
   "execution_count": null,
   "id": "d427a037",
   "metadata": {},
   "outputs": [],
   "source": []
  }
 ],
 "metadata": {
  "kernelspec": {
   "display_name": "Python 3 (ipykernel)",
   "language": "python",
   "name": "python3"
  },
  "language_info": {
   "codemirror_mode": {
    "name": "ipython",
    "version": 3
   },
   "file_extension": ".py",
   "mimetype": "text/x-python",
   "name": "python",
   "nbconvert_exporter": "python",
   "pygments_lexer": "ipython3",
   "version": "3.10.12"
  }
 },
 "nbformat": 4,
 "nbformat_minor": 5
}
